{
 "cells": [
  {
   "cell_type": "code",
   "execution_count": 1,
   "id": "e191d01e",
   "metadata": {},
   "outputs": [
    {
     "name": "stderr",
     "output_type": "stream",
     "text": [
      "/home/luhung3080/miniconda3/envs/chou/lib/python3.7/site-packages/tqdm/auto.py:22: TqdmWarning: IProgress not found. Please update jupyter and ipywidgets. See https://ipywidgets.readthedocs.io/en/stable/user_install.html\n",
      "  from .autonotebook import tqdm as notebook_tqdm\n"
     ]
    },
    {
     "name": "stdout",
     "output_type": "stream",
     "text": [
      "pytorch ver .  1.11.0+cu113\n",
      "Is CUDA available? True\n",
      "pynio ver .  1.5.5\n"
     ]
    }
   ],
   "source": [
    "import numpy as np\n",
    "import pandas as pd\n",
    "import matplotlib.pyplot as plt\n",
    "from sklearn.decomposition import PCA\n",
    "import torch\n",
    "print(\"pytorch ver . \",torch.__version__)\n",
    "print(\"Is CUDA available?\",torch.cuda.is_available())\n",
    "import torch.nn as nn\n",
    "import torch.optim as optim\n",
    "from torch.utils.data import Dataset,DataLoader\n",
    "import torch.utils.data as Data\n",
    "import pytorch_lightning as pl\n",
    "from pytorch_lightning.loggers import TensorBoardLogger\n",
    "from pytorch_lightning.callbacks.early_stopping import EarlyStopping\n",
    "import xarray as xr\n",
    "import os\n",
    "os.environ['R_HOME'] = '/home/luhung3080/miniconda3/envs/chou/lib/R'\n",
    "from rpy2.robjects import r, numpy2ri\n",
    "numpy2ri.activate()\n",
    "from rpy2.robjects.packages import importr\n",
    "sinkr = importr('sinkr')\n",
    "import Nio\n",
    "print (\"pynio ver . \",Nio.__version__)"
   ]
  },
  {
   "cell_type": "code",
   "execution_count": 2,
   "id": "6473d248",
   "metadata": {},
   "outputs": [
    {
     "name": "stderr",
     "output_type": "stream",
     "text": [
      "/home/luhung3080/miniconda3/envs/chou/lib/python3.7/site-packages/IPython/core/interactiveshell.py:3524: DtypeWarning: Columns (10) have mixed types.Specify dtype option on import or set low_memory=False.\n",
      "  exec(code_obj, self.user_global_ns, self.user_ns)\n"
     ]
    }
   ],
   "source": [
    "data=pd.read_csv('v100_hr_20200101-0930_cut_utf8.csv')"
   ]
  },
  {
   "cell_type": "markdown",
   "id": "25e37a41",
   "metadata": {},
   "source": [
    "## DINEOF"
   ]
  },
  {
   "cell_type": "code",
   "execution_count": 3,
   "id": "89aa33fb",
   "metadata": {},
   "outputs": [
    {
     "name": "stdout",
     "output_type": "stream",
     "text": [
      "(244, 6816)\n",
      "(244, 6816)\n"
     ]
    }
   ],
   "source": [
    "###\n",
    "#cal_PMf  \n",
    "###\n",
    "u=np.zeros([244,6816])\n",
    "for i in range (0,244):\n",
    "    a=np.array(data['cal_PMf'][6816*i:6816*i+6816])\n",
    "    for j in range(0,6816):\n",
    "        if a[j]=='\\\\N' :\n",
    "            a[j]=np.nan\n",
    "    u[i]=a.T\n",
    "\n",
    "###\n",
    "#obs_PMf\n",
    "###\n",
    "v=np.zeros([244,6816])\n",
    "for i in range (0,244):\n",
    "    a=np.array(data['obs_PMf'][6816*i:6816*i+6816])\n",
    "    for j in range(0,6816):\n",
    "        if a[j]=='\\\\N' :\n",
    "            a[j]=np.nan\n",
    "    v[i]=a.T\n",
    "\n",
    "print(np.shape(u))\n",
    "print(np.shape(v))"
   ]
  },
  {
   "cell_type": "code",
   "execution_count": 4,
   "id": "153789aa",
   "metadata": {
    "collapsed": true
   },
   "outputs": [
    {
     "name": "stdout",
     "output_type": "stream",
     "text": [
      "[1] \"1 EOF ; RMS = 10.22778933\"\n",
      "[1] \"1 EOF ; RMS = 10.21055017\"\n",
      "[1] \"1 EOF ; RMS = 10.21013413\"\n",
      "[1] \"1 EOF ; RMS = 10.21015504\"\n",
      "[1] \"2 EOF ; RMS = 9.34632169\"\n",
      "[1] \"2 EOF ; RMS = 9.34479994\"\n",
      "[1] \"2 EOF ; RMS = 9.34481473\"\n",
      "[1] \"3 EOF ; RMS = 8.99367143\"\n",
      "[1] \"3 EOF ; RMS = 8.99303692\"\n",
      "[1] \"3 EOF ; RMS = 8.99271312\"\n",
      "[1] \"3 EOF ; RMS = 8.99264261\"\n",
      "[1] \"3 EOF ; RMS = 8.99264141\"\n",
      "[1] \"4 EOF ; RMS = 8.80085908\"\n",
      "[1] \"4 EOF ; RMS = 8.81074702\"\n",
      "[1] \"5 EOF ; RMS = 8.68874813\"\n",
      "[1] \"5 EOF ; RMS = 8.70179045\"\n",
      "[1] \"6 EOF ; RMS = 8.55522702\"\n",
      "[1] \"6 EOF ; RMS = 8.56073852\"\n",
      "[1] \"7 EOF ; RMS = 8.49728582\"\n",
      "[1] \"7 EOF ; RMS = 8.51513219\"\n",
      "[1] \"8 EOF ; RMS = 8.43088817\"\n",
      "[1] \"8 EOF ; RMS = 8.45416035\"\n",
      "[1] \"9 EOF ; RMS = 8.42193151\"\n",
      "[1] \"9 EOF ; RMS = 8.44935172\"\n",
      "[1] \"10 EOF ; RMS = 8.46565639\"\n",
      "[1] \"1 EOF ; RMS = 8.25477747\"\n",
      "[1] \"1 EOF ; RMS = 8.20677729\"\n",
      "[1] \"1 EOF ; RMS = 8.20511392\"\n",
      "[1] \"1 EOF ; RMS = 8.20494421\"\n",
      "[1] \"1 EOF ; RMS = 8.20491815\"\n",
      "[1] \"1 EOF ; RMS = 8.20491348\"\n",
      "[1] \"2 EOF ; RMS = 7.5594069\"\n",
      "[1] \"2 EOF ; RMS = 7.55729072\"\n",
      "[1] \"2 EOF ; RMS = 7.55735278\"\n",
      "[1] \"3 EOF ; RMS = 7.10543512\"\n",
      "[1] \"3 EOF ; RMS = 7.10646811\"\n",
      "[1] \"4 EOF ; RMS = 6.83543149\"\n",
      "[1] \"4 EOF ; RMS = 6.8376911\"\n",
      "[1] \"5 EOF ; RMS = 6.67579777\"\n",
      "[1] \"5 EOF ; RMS = 6.67546867\"\n",
      "[1] \"5 EOF ; RMS = 6.67534194\"\n",
      "[1] \"5 EOF ; RMS = 6.67520487\"\n",
      "[1] \"5 EOF ; RMS = 6.67512676\"\n",
      "[1] \"5 EOF ; RMS = 6.67508883\"\n",
      "[1] \"5 EOF ; RMS = 6.67507156\"\n",
      "[1] \"5 EOF ; RMS = 6.67506393\"\n",
      "[1] \"6 EOF ; RMS = 6.55434417\"\n",
      "[1] \"6 EOF ; RMS = 6.55711354\"\n",
      "[1] \"7 EOF ; RMS = 6.42602973\"\n",
      "[1] \"7 EOF ; RMS = 6.43071021\"\n",
      "[1] \"8 EOF ; RMS = 6.31425817\"\n",
      "[1] \"8 EOF ; RMS = 6.31355993\"\n",
      "[1] \"8 EOF ; RMS = 6.31345307\"\n",
      "[1] \"8 EOF ; RMS = 6.31336232\"\n",
      "[1] \"8 EOF ; RMS = 6.31330992\"\n",
      "[1] \"8 EOF ; RMS = 6.31328254\"\n",
      "[1] \"8 EOF ; RMS = 6.31326868\"\n",
      "[1] \"8 EOF ; RMS = 6.31326177\"\n",
      "[1] \"9 EOF ; RMS = 6.23016988\"\n",
      "[1] \"9 EOF ; RMS = 6.232958\"\n",
      "[1] \"10 EOF ; RMS = 6.13795917\"\n",
      "[1] \"10 EOF ; RMS = 6.13857421\"\n",
      "[1] \"11 EOF ; RMS = 6.0594166\"\n",
      "[1] \"11 EOF ; RMS = 6.06182278\"\n",
      "[1] \"12 EOF ; RMS = 5.9787805\"\n",
      "[1] \"12 EOF ; RMS = 5.98267388\"\n",
      "[1] \"13 EOF ; RMS = 5.923857\"\n",
      "[1] \"13 EOF ; RMS = 5.92820652\"\n",
      "[1] \"14 EOF ; RMS = 5.88479854\"\n",
      "[1] \"14 EOF ; RMS = 5.89018381\"\n",
      "[1] \"15 EOF ; RMS = 5.8502224\"\n",
      "[1] \"15 EOF ; RMS = 5.85421184\"\n",
      "[1] \"16 EOF ; RMS = 5.8206315\"\n",
      "[1] \"16 EOF ; RMS = 5.82629697\"\n",
      "[1] \"17 EOF ; RMS = 5.78480396\"\n",
      "[1] \"17 EOF ; RMS = 5.7878572\"\n",
      "[1] \"18 EOF ; RMS = 5.7520069\"\n",
      "[1] \"18 EOF ; RMS = 5.75507098\"\n",
      "[1] \"19 EOF ; RMS = 5.72857395\"\n",
      "[1] \"19 EOF ; RMS = 5.73462771\"\n",
      "[1] \"20 EOF ; RMS = 5.72359642\"\n",
      "[1] \"20 EOF ; RMS = 5.73329363\"\n",
      "[1] \"21 EOF ; RMS = 5.72588529\"\n",
      "[1] \"21 EOF ; RMS = 5.73634379\"\n",
      "[1] \"22 EOF ; RMS = 5.72992242\"\n",
      "[1] \"22 EOF ; RMS = 5.73736661\"\n",
      "[1] \"23 EOF ; RMS = 5.72397251\"\n",
      "[1] \"23 EOF ; RMS = 5.73269721\"\n",
      "[1] \"24 EOF ; RMS = 5.72064669\"\n",
      "[1] \"24 EOF ; RMS = 5.72985751\"\n",
      "[1] \"25 EOF ; RMS = 5.71533611\"\n",
      "[1] \"25 EOF ; RMS = 5.72531303\"\n",
      "[1] \"26 EOF ; RMS = 5.71127541\"\n",
      "[1] \"26 EOF ; RMS = 5.71897431\"\n",
      "[1] \"27 EOF ; RMS = 5.7078944\"\n",
      "[1] \"27 EOF ; RMS = 5.71817017\"\n",
      "[1] \"28 EOF ; RMS = 5.69250856\"\n",
      "[1] \"28 EOF ; RMS = 5.69439753\"\n",
      "[1] \"29 EOF ; RMS = 5.67642783\"\n",
      "[1] \"29 EOF ; RMS = 5.68299111\"\n",
      "[1] \"30 EOF ; RMS = 5.66638541\"\n",
      "[1] \"30 EOF ; RMS = 5.67571019\"\n",
      "[1] \"31 EOF ; RMS = 5.6719898\"\n",
      "[1] \"31 EOF ; RMS = 5.68382354\"\n",
      "[1] \"32 EOF ; RMS = 5.68884987\"\n"
     ]
    }
   ],
   "source": [
    "XRestruct=sinkr.dineof(u)\n",
    "YRestruct=sinkr.dineof(v)"
   ]
  },
  {
   "cell_type": "code",
   "execution_count": 5,
   "id": "c201899a",
   "metadata": {},
   "outputs": [
    {
     "name": "stdout",
     "output_type": "stream",
     "text": [
      "<class 'numpy.ndarray'>\n",
      "<class 'numpy.ndarray'>\n",
      "(244, 6816)\n",
      "(244, 6816)\n",
      "(6816, 6816)\n",
      "(6816,)\n",
      "(6816,)\n"
     ]
    }
   ],
   "source": [
    "XRestruct_Fun=np.array(XRestruct[0])\n",
    "YRestruct_Fun=np.array(YRestruct[0])\n",
    "XCov_fun=np.cov(XRestruct_Fun.T)\n",
    "XMean_fun=np.zeros(6816)\n",
    "YMean_fun=np.zeros(6816)\n",
    "for i in range(0,6816):\n",
    "    for j in range(0,244):\n",
    "        XMean_fun[i]=XMean_fun[i]+(XRestruct_Fun[j][i]/244)\n",
    "        YMean_fun[i]=YMean_fun[i]+(YRestruct_Fun[j][i]/244)\n",
    "print(type(XRestruct_Fun))\n",
    "print(type(YRestruct_Fun))\n",
    "print(np.shape(XRestruct_Fun))\n",
    "print(np.shape(YRestruct_Fun))\n",
    "print(np.shape(XCov_fun))\n",
    "print(np.shape(XMean_fun))\n",
    "print(np.shape(YMean_fun))"
   ]
  },
  {
   "cell_type": "code",
   "execution_count": 6,
   "id": "bb8d3bac",
   "metadata": {},
   "outputs": [
    {
     "name": "stdout",
     "output_type": "stream",
     "text": [
      "Xhat\n",
      "(244, 6816)\n",
      "Yhat\n",
      "(244, 6816)\n",
      "Xbar\n",
      "(6816,)\n",
      "Ybar\n",
      "(6816,)\n"
     ]
    }
   ],
   "source": [
    "Xhat=XRestruct_Fun\n",
    "Yhat=YRestruct_Fun\n",
    "Xbar=XMean_fun\n",
    "Ybar=YMean_fun\n",
    "print('Xhat')\n",
    "#print(Xhat)\n",
    "print(np.shape(Xhat))\n",
    "print('Yhat')\n",
    "#print(Yhat)\n",
    "print(np.shape(Yhat))\n",
    "print('Xbar')\n",
    "#print(Xbar)\n",
    "print(np.shape(Xbar))\n",
    "print('Ybar')\n",
    "#print(Ybar)\n",
    "print(np.shape(Ybar))"
   ]
  },
  {
   "cell_type": "code",
   "execution_count": 7,
   "id": "a1df4ce9",
   "metadata": {},
   "outputs": [
    {
     "name": "stdout",
     "output_type": "stream",
     "text": [
      "[ 68.15802914  63.24933945 116.31025274 ...  98.99547747 118.30559943\n",
      " 139.82751368]\n",
      "(6816,)\n",
      "[40.6237598  41.50159431 47.97859119 ... 42.2360388  51.81930767\n",
      " 68.43299211]\n",
      "(6816,)\n"
     ]
    }
   ],
   "source": [
    "G_xx=XCov_fun\n",
    "G_xxt=np.zeros(6816)\n",
    "for i in range(0,6816):\n",
    "     G_xxt[i]=G_xx[i][i]\n",
    "G_xy=0\n",
    "for i in range (0,244):\n",
    "    G_xyi=(Xhat[i]-Xbar)*(Yhat[i]-Ybar)\n",
    "    G_xy=G_xy+G_xyi\n",
    "G_xy=G_xy/243\n",
    "\n",
    "print(G_xxt)\n",
    "print(np.shape(G_xxt))\n",
    "print(G_xy)\n",
    "print(np.shape(G_xy))"
   ]
  },
  {
   "cell_type": "code",
   "execution_count": 8,
   "id": "62c096b0",
   "metadata": {},
   "outputs": [
    {
     "name": "stdout",
     "output_type": "stream",
     "text": [
      "B_1\n",
      "(6816,)\n",
      "B_0\n",
      "(6816,)\n"
     ]
    }
   ],
   "source": [
    "B_1=G_xy/G_xxt\n",
    "B_0=YMean_fun-(B_1*XMean_fun)\n",
    "\n",
    "print('B_1')\n",
    "#print(B_1)\n",
    "print(np.shape(B_1))\n",
    "print('B_0')\n",
    "#print(B_0)\n",
    "print(np.shape(B_0))"
   ]
  },
  {
   "cell_type": "code",
   "execution_count": 9,
   "id": "fd436f94",
   "metadata": {},
   "outputs": [
    {
     "name": "stdout",
     "output_type": "stream",
     "text": [
      "(274, 6816)\n"
     ]
    }
   ],
   "source": [
    "before_fx=np.zeros([274,6816])\n",
    "for i in range (0,274):\n",
    "    a=np.array(data['cal_PMf'][6816*i:6816*i+6816])\n",
    "    for j in range(0,6816):\n",
    "        if a[j]=='\\\\N' :\n",
    "            a[j]=np.nan\n",
    "    before_fx[i]=a\n",
    "print(np.shape(before_fx))"
   ]
  },
  {
   "cell_type": "code",
   "execution_count": 10,
   "id": "78b113ad",
   "metadata": {
    "collapsed": true
   },
   "outputs": [
    {
     "name": "stdout",
     "output_type": "stream",
     "text": [
      "[1] \"1 EOF ; RMS = 10.07923554\"\n",
      "[1] \"1 EOF ; RMS = 10.06407105\"\n",
      "[1] \"1 EOF ; RMS = 10.0631579\"\n",
      "[1] \"1 EOF ; RMS = 10.06297708\"\n",
      "[1] \"1 EOF ; RMS = 10.06292945\"\n",
      "[1] \"1 EOF ; RMS = 10.06291588\"\n",
      "[1] \"1 EOF ; RMS = 10.06291195\"\n",
      "[1] \"2 EOF ; RMS = 9.27140516\"\n",
      "[1] \"2 EOF ; RMS = 9.27161068\"\n",
      "[1] \"3 EOF ; RMS = 8.92975587\"\n",
      "[1] \"3 EOF ; RMS = 8.92911273\"\n",
      "[1] \"3 EOF ; RMS = 8.92925706\"\n",
      "[1] \"4 EOF ; RMS = 8.7072588\"\n",
      "[1] \"4 EOF ; RMS = 8.71244806\"\n",
      "[1] \"5 EOF ; RMS = 8.55984651\"\n",
      "[1] \"5 EOF ; RMS = 8.56905402\"\n",
      "[1] \"6 EOF ; RMS = 8.45198387\"\n",
      "[1] \"6 EOF ; RMS = 8.46277685\"\n",
      "[1] \"7 EOF ; RMS = 8.36779568\"\n",
      "[1] \"7 EOF ; RMS = 8.37534963\"\n",
      "[1] \"8 EOF ; RMS = 8.28076509\"\n",
      "[1] \"8 EOF ; RMS = 8.28329056\"\n",
      "[1] \"9 EOF ; RMS = 8.21130365\"\n",
      "[1] \"9 EOF ; RMS = 8.22016068\"\n",
      "[1] \"10 EOF ; RMS = 8.15867437\"\n",
      "[1] \"10 EOF ; RMS = 8.17101525\"\n",
      "[1] \"11 EOF ; RMS = 8.10596557\"\n",
      "[1] \"11 EOF ; RMS = 8.12081115\"\n",
      "[1] \"12 EOF ; RMS = 8.10500618\"\n",
      "[1] \"12 EOF ; RMS = 8.12934121\"\n",
      "[1] \"13 EOF ; RMS = 8.10160653\"\n",
      "[1] \"13 EOF ; RMS = 8.12190332\"\n",
      "[1] \"14 EOF ; RMS = 8.0773232\"\n",
      "[1] \"14 EOF ; RMS = 8.0908761\"\n",
      "[1] \"15 EOF ; RMS = 8.02370044\"\n",
      "[1] \"15 EOF ; RMS = 8.02703704\"\n",
      "[1] \"16 EOF ; RMS = 8.02633117\"\n",
      "[1] \"16 EOF ; RMS = 8.05527527\"\n",
      "[1] \"17 EOF ; RMS = 8.03715596\"\n",
      "[1] \"17 EOF ; RMS = 8.05712108\"\n",
      "[1] \"18 EOF ; RMS = 8.05600468\"\n",
      "[1] \"18 EOF ; RMS = 8.08482719\"\n",
      "[1] \"19 EOF ; RMS = 8.06874012\"\n",
      "[1] \"19 EOF ; RMS = 8.09350832\"\n",
      "[1] \"20 EOF ; RMS = 8.09263468\"\n",
      "[1] \"20 EOF ; RMS = 8.12244715\"\n",
      "[1] \"21 EOF ; RMS = 8.10344896\"\n",
      "[1] \"21 EOF ; RMS = 8.12557575\"\n",
      "[1] \"22 EOF ; RMS = 8.09777445\"\n",
      "[1] \"22 EOF ; RMS = 8.11130936\"\n",
      "[1] \"23 EOF ; RMS = 8.11187306\"\n",
      "(274, 6816)\n"
     ]
    }
   ],
   "source": [
    "after_fx_r=sinkr.dineof(before_fx)\n",
    "after_fx=np.array(after_fx_r[0])\n",
    "print(np.shape(after_fx))"
   ]
  },
  {
   "cell_type": "code",
   "execution_count": 11,
   "id": "119db1c8",
   "metadata": {},
   "outputs": [
    {
     "name": "stdout",
     "output_type": "stream",
     "text": [
      "(274, 6816)\n"
     ]
    }
   ],
   "source": [
    "fit_fx=B_0+(B_1*after_fx)\n",
    "print(np.shape(fit_fx))"
   ]
  },
  {
   "cell_type": "code",
   "execution_count": 12,
   "id": "a16b1772",
   "metadata": {},
   "outputs": [
    {
     "name": "stdout",
     "output_type": "stream",
     "text": [
      "(274, 6816)\n",
      "(274, 6816)\n",
      "(274, 6816)\n"
     ]
    }
   ],
   "source": [
    "\"\"\"\n",
    "old data\n",
    "\"\"\"\n",
    "old_x=np.zeros([274,6816])\n",
    "old_y=np.zeros([274,6816])\n",
    "#data_cal\n",
    "for i in range (0,274):\n",
    "    a=np.array(data['cal_PMf'][6816*i:6816*i+6816])\n",
    "    for j in range(0,6816):\n",
    "        if a[j]=='\\\\N' :\n",
    "            a[j]=np.nan\n",
    "    old_x[i]=a\n",
    "#data_obs\n",
    "for i in range (0,274):\n",
    "    a=np.array(data['obs_PMf'][6816*i:6816*i+6816])\n",
    "    for j in range(0,6816):\n",
    "        if a[j]=='\\\\N' :\n",
    "            a[j]=np.nan\n",
    "    old_y[i]=a\n",
    "print(np.shape(old_x))\n",
    "print(np.shape(old_y))\n",
    "print(np.shape(fit_fx))"
   ]
  },
  {
   "cell_type": "code",
   "execution_count": 13,
   "id": "6e647ca9",
   "metadata": {},
   "outputs": [
    {
     "name": "stdout",
     "output_type": "stream",
     "text": [
      "January to August (training data set) before_error (MADE) : 8.247546\n",
      "January to August (training data set) after_error (MADE) : 6.792790\n"
     ]
    }
   ],
   "source": [
    "old_x1=np.zeros([244,6816])\n",
    "old_y1=np.zeros([244,6816])\n",
    "fit_fx1=np.zeros([244,6816])\n",
    "for i in range (0,244):\n",
    "    for j in range (0,6816):\n",
    "        old_x1[i][j]=old_x[i][j]\n",
    "        old_y1[i][j]=old_y[i][j]\n",
    "        fit_fx1[i][j]=fit_fx[i][j]\n",
    "before1=abs(old_x1-old_y1)\n",
    "after1=abs(fit_fx1-old_y1)\n",
    "before_error1=np.nanmean(before1)\n",
    "after_error1=np.nanmean(after1)\n",
    "print(\"January to August (training data set) before_error (MADE) : %f\" %before_error1)\n",
    "print(\"January to August (training data set) after_error (MADE) : %f\" %after_error1)"
   ]
  },
  {
   "cell_type": "code",
   "execution_count": 15,
   "id": "ea8f4f3e",
   "metadata": {},
   "outputs": [
    {
     "name": "stdout",
     "output_type": "stream",
     "text": [
      "September (testing data set) before_error (MADE) : 7.586688\n",
      "September (testing data set) after_error (MADE) : 5.955634\n"
     ]
    }
   ],
   "source": [
    "old_x2=np.zeros([30,6816])\n",
    "old_y2=np.zeros([30,6816])\n",
    "fit_fx2=np.zeros([30,6816])\n",
    "for i in range (0,30):\n",
    "    for j in range (0,6816):\n",
    "        old_x2[i][j]=old_x[i+244][j]\n",
    "        old_y2[i][j]=old_y[i+244][j]\n",
    "        fit_fx2[i][j]=fit_fx[i+244][j]\n",
    "before2=abs(old_x2-old_y2)\n",
    "after2=abs(fit_fx2-old_y2)\n",
    "before_error2=np.nanmean(before2)\n",
    "after_error2=np.nanmean(after2)\n",
    "print(\"September (testing data set) before_error (MADE) : %f\" %before_error2)\n",
    "print(\"September (testing data set) after_error (MADE) : %f\" %after_error2)"
   ]
  }
 ],
 "metadata": {
  "kernelspec": {
   "display_name": "chou",
   "language": "python",
   "name": "chou"
  },
  "language_info": {
   "codemirror_mode": {
    "name": "ipython",
    "version": 3
   },
   "file_extension": ".py",
   "mimetype": "text/x-python",
   "name": "python",
   "nbconvert_exporter": "python",
   "pygments_lexer": "ipython3",
   "version": "3.7.12"
  }
 },
 "nbformat": 4,
 "nbformat_minor": 5
}
